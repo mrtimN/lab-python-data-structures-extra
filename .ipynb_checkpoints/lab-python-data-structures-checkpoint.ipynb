{
 "cells": [
  {
   "cell_type": "markdown",
   "metadata": {},
   "source": [
    "# Lab | Data Structures "
   ]
  },
  {
   "cell_type": "markdown",
   "metadata": {},
   "source": [
    "## Exercise 1: Working with Lists"
   ]
  },
  {
   "cell_type": "markdown",
   "metadata": {},
   "source": [
    "Imagine you are building a program for a teacher who wants to track the progress of their students throughout the semester. The teacher wants to input the grades of each student one by one, and get a summary of their performance. There are in total 5 students. You are tasked with building the program that will allow the teacher to do this easily.\n",
    "\n",
    "The program will prompt the teacher to enter the grades of each student. Once the teacher has entered all the grades, the program will calculate the total sum of the grades and display it on the screen. Then, the program will create a new list by selecting only the grades of the first, third, and fifth students entered by the teacher, and sort them in ascending order.\n",
    "\n",
    "Finally, the program will print out the new list, along with its length and the number of occurrences of the score 5 in the list. This will give the teacher a good overview of the performance of the selected students, and help them identify any potential issues early on."
   ]
  },
  {
   "cell_type": "markdown",
   "metadata": {},
   "source": [
    "*Hint:*\n",
    "- You can use the input() function to ask the user to enter their information.\n",
    "- Look for list methods to perform the tasks. \n",
    "- Remember, it is possible to get a part of the sequence using:\n",
    "\n",
    "    ```python\n",
    "    sequence[x:y:z]\n",
    "    ```\n",
    "    where x, y, z are integers.\n",
    "\n",
    "    The above returns a new sequence with the following characteristics:\n",
    "\n",
    "    - A sequence with the same type as the original (a slice of a list is a list, a slice of a tuple is a tuple, and a slice of a string is a string).\n",
    "    - A sequence with elements from `sequence [x]` to `sequence [y-1]` (does not include a sequence [y]). By skipping `z` elements each time, it can be omitted if ` z = 1`.\n"
   ]
  },
  {
   "cell_type": "markdown",
   "metadata": {},
   "source": [
    "*Recommended External Resources:*\n",
    "- *[Python Lists](https://www.w3schools.com/python/python_lists.asp)*\n",
    "- *[Python List Methods](https://www.w3schools.com/python/python_ref_list.asp)*\n",
    "- *[Python Built-in Functions](https://docs.python.org/3/library/functions.html)*\n"
   ]
  },
  {
   "cell_type": "code",
   "execution_count": 42,
   "metadata": {},
   "outputs": [
    {
     "name": "stdin",
     "output_type": "stream",
     "text": [
      "Please enter the grade of student 1: 5\n",
      "Please enter the grade of student 2: 5\n",
      "Please enter the grade of student 3: 5\n",
      "Please enter the grade of student 4: 5\n",
      "Please enter the grade of student 5: 5\n"
     ]
    },
    {
     "name": "stdout",
     "output_type": "stream",
     "text": [
      "The total of all grades is: 25\n",
      "The grades of first, third and fifth student in scending order are: [5, 5, 5]\n",
      "The total number of grades is: 3\n",
      "The grade 5 occurs 3 times.\n"
     ]
    }
   ],
   "source": [
    "number_students = 5\n",
    "grades = []\n",
    "for i in range(1,number_students+1):\n",
    "    grades.append(int(input(f\"Please enter the grade of student {i}:\")))\n",
    "    i+=1\n",
    "\n",
    "print(\"\")\n",
    "print(f\"The total of all grades is: {sum(grades)}\")\n",
    "\n",
    "grades_uneven = []\n",
    "for i in range(1,len(grades)+1):\n",
    "    if i%2 != 0:\n",
    "        grades_uneven.append(grades[i-1])\n",
    "\n",
    "grades_uneven.sort()\n",
    "grade_5 = 0\n",
    "for i in range(len(grades_uneven)):\n",
    "    if grades_uneven[i] == 5:\n",
    "        grade_5 += 1\n",
    "\n",
    "print(f\"The grades of first, third and fifth student in scending order are: {grades_uneven}\\nThe total number of grades is: {len(grades_uneven)}\\nThe grade 5 occurs {grade_5} times.\")"
   ]
  },
  {
   "cell_type": "markdown",
   "metadata": {},
   "source": [
    "## Exercise 2: Tuples"
   ]
  },
  {
   "cell_type": "markdown",
   "metadata": {},
   "source": [
    "Imagine you're running a fruit stand and want to keep track of your inventory. Write a Python program that does the following:\n",
    "\n",
    "- Initializes a tuple with 5 different types of fruit.\n",
    "- Outputs the first and last elements of the tuple, so you can see the full range of fruits the store offers.\n",
    "- Replaces the second element of the tuple with a new fruit that the store has recently received, and prints the updated tuple so you can see the changes.\n",
    "- Concatenates a new tuple containing 2 additional fruits to the original tuple, so you can add them to the store inventory, and prints the resulting tuple to see the updated inventory.\n",
    "- Splits the resulting tuple into 2 tuples of 3 elements each (the first tuple contains the first 3 elements, and the second tuple contains the last 3 elements), so you can organize the inventory more effectively.\n",
    "- Combines the 2 tuples from the previous step with the original tuple into a new tuple, and prints the resulting tuple and its length, so you can see the final inventory after all the changes."
   ]
  },
  {
   "cell_type": "markdown",
   "metadata": {},
   "source": [
    "*Recommended External Resources: [Python Tuples Examples and Methods](https://www.w3schools.com/python/python_tuples.asp)*\n",
    "\n"
   ]
  },
  {
   "cell_type": "code",
   "execution_count": 2,
   "metadata": {},
   "outputs": [
    {
     "name": "stdout",
     "output_type": "stream",
     "text": [
      "\n",
      "('apple', 'cherry', 'orange', 'banana', 'grape')\n",
      "First element is: apple.\n",
      "Last element is: grape.\n",
      "('apple', 'lemon', 'orange', 'banana', 'grape')\n",
      "('apple', 'lemon', 'orange', 'banana', 'grape', 'lime', 'pear')\n",
      "The length of the final inventory is 12.\n",
      "('apple', 'lemon', 'orange', 'banana', 'grape', 'apple', 'lemon', 'orange', 'banana', 'grape', 'lime', 'pear')\n"
     ]
    }
   ],
   "source": [
    "fruits = (\"apple\", \"cherry\", \"orange\", \"banana\", \"grape\")\n",
    "print()\n",
    "print(fruits)\n",
    "print(f\"First element is: {fruits[0]}.\")\n",
    "print(f\"Last element is: {fruits[len(fruits)-1]}.\")\n",
    "fruit_list = list(fruits)\n",
    "fruit_list[1] = 'lemon'\n",
    "fruits = tuple(fruit_list)\n",
    "print(fruits)\n",
    "new_fruits = (\"lime\", \"pear\")\n",
    "combined_fruits = fruits + new_fruits\n",
    "print(combined_fruits)\n",
    "fruits_3 = combined_fruits[:3]\n",
    "fruits_6 = combined_fruits[3:]\n",
    "final_inventory = fruits + fruits_3 + fruits_6\n",
    "print(f\"The length of the final inventory is {len(final_inventory)}.\\n{final_inventory}\")"
   ]
  },
  {
   "cell_type": "markdown",
   "metadata": {},
   "source": [
    "## Exercise 3: Sets"
   ]
  },
  {
   "cell_type": "markdown",
   "metadata": {},
   "source": [
    "Imagine you are a data analyst working for a literature museum. Your manager has given you two poems to analyze, and she wants you to write a Python program to extract useful information from them.\n",
    "\n",
    "Your program should:\n",
    "\n",
    "- Create two sets, one for each poem, containing all unique words in both poems (ignoring case and punctuation).\n",
    "- Print the number of unique words in each set.\n",
    "- Identify and print the unique words present in the first poem but not in the second one.\n",
    "- Identify and print the unique words present in the second poem but not in the first one.\n",
    "- Identify and print the unique words present in both poems and print it in alphabetical order."
   ]
  },
  {
   "cell_type": "markdown",
   "metadata": {},
   "source": [
    "*Recommended External Resources:*\n",
    "- *[Python Sets](https://www.w3schools.com/python/python_sets.asp)* \n",
    "- *[Python Set Methods](https://www.w3schools.com/python/python_ref_set.asp)*\n",
    "- *[Python String Methods](https://www.w3schools.com/python/python_ref_string.asp)*\n"
   ]
  },
  {
   "cell_type": "code",
   "execution_count": 68,
   "metadata": {},
   "outputs": [],
   "source": [
    "poem = \"\"\"Some say the world will end in fire,\n",
    "Some say in ice.\n",
    "From what I’ve tasted of desire\n",
    "I hold with those who favor fire.\n",
    "But if it had to perish twice,\n",
    "I think I know enough of hate\n",
    "To say that for destruction ice\n",
    "Is also great\n",
    "And would suffice.\"\"\"\n",
    "\n",
    "new_poem = \"\"\"Some say life is but a dream,\n",
    "Some say it's a test.\n",
    "From what I've seen and what I deem,\n",
    "I side with those who see it as a quest.\n",
    "\n",
    "But if it had to end today,\n",
    "I think I know enough of love,\n",
    "To say that though it fades away,\n",
    "It's still what we are made of.\"\"\""
   ]
  },
  {
   "cell_type": "code",
   "execution_count": 126,
   "metadata": {},
   "outputs": [
    {
     "name": "stdout",
     "output_type": "stream",
     "text": [
      "Number of unique words in frist poem: 41\n",
      "Number of unique words in second poem: 42\n",
      "{'world', 'perish', 'for', 'hold', 'had', 'is', 'ice', 'great', 'i’ve', 'favor', 'fire', 'with', 'but', 'know', 'destruction', 'i', 'also', 'who', 'would', 'it', 'the', 'tasted', 'if', 'of', 'that', 'suffice', 'will', 'to', 'enough', 'end', 'think', 'desire', 'from', 'some', 'twice', 'hate', 'and', 'those', 'in', 'what', 'say'}\n",
      "{'test', 'is', 'had', 'though', 'ive', 'side', 'with', 'dream', 'today', 'but', 'know', 'i', 'who', 'love', 'we', 'it', 'deem', 'a', 'if', 'still', 'its', 'of', 'that', 'see', 'seen', 'to', 'enough', 'end', 'fades', 'think', 'are', 'from', 'some', 'as', 'and', 'those', 'made', 'quest', 'away', 'what', 'life', 'say'}\n",
      "\n",
      "['world', 'perish', 'for', 'hold', 'ice', 'great', 'i’ve', 'favor', 'fire', 'destruction', 'also', 'would', 'the', 'tasted', 'suffice', 'will', 'desire', 'twice', 'hate', 'in']\n",
      "\n",
      "['test', 'though', 'ive', 'side', 'dream', 'today', 'love', 'we', 'deem', 'a', 'still', 'its', 'see', 'seen', 'fades', 'are', 'as', 'made', 'quest', 'away', 'life']\n",
      "\n",
      "['and', 'but', 'end', 'enough', 'from', 'had', 'i', 'if', 'is', 'it', 'know', 'of', 'say', 'some', 'that', 'think', 'those', 'to', 'what', 'who', 'with']\n"
     ]
    }
   ],
   "source": [
    "import string\n",
    "\n",
    "poem_edited = set(poem.lower().translate(str.maketrans('', '', string.punctuation)).split())\n",
    "new_poem_edited = set(new_poem.lower().translate(str.maketrans('', '', string.punctuation)).split())\n",
    "\n",
    "print(f\"Number of unique words in frist poem: {len(poem_edited)}\")\n",
    "print(f\"Number of unique words in second poem: {len(new_poem_edited)}\")\n",
    "print(poem_edited)\n",
    "print(new_poem_edited)\n",
    "print()\n",
    "in_first_not_sec = []\n",
    "in_sec_not_first = []\n",
    "in_both = []\n",
    "\n",
    "for word in poem_edited:\n",
    "    if word not in new_poem_edited:\n",
    "        in_first_not_sec.append(word)\n",
    "print(in_first_not_sec)\n",
    "print()\n",
    "for word in new_poem_edited:\n",
    "    if word not in poem_edited:\n",
    "        in_sec_not_first.append(word)\n",
    "print(in_sec_not_first)\n",
    "print()\n",
    "for word in poem_edited:\n",
    "    if word in new_poem_edited:\n",
    "        in_both.append(word)\n",
    "in_both.sort()\n",
    "print(in_both)"
   ]
  },
  {
   "cell_type": "markdown",
   "metadata": {},
   "source": [
    "## Exercise 4: Dictionaries"
   ]
  },
  {
   "cell_type": "markdown",
   "metadata": {},
   "source": [
    "Consider the following dictionary of students with their scores in different subjects. One of the students, Bob, has complained about his score in Philosophy and, after reviewing it, the teacher has decided to update his score to 100. Write a Python program that updates Bob's score in Philosophy to 100 in the dictionary."
   ]
  },
  {
   "cell_type": "markdown",
   "metadata": {},
   "source": [
    "*Recommended External Resources: [Python Dictionary Examples and Methods](https://www.w3schools.com/python/python_dictionaries.asp)*\n"
   ]
  },
  {
   "cell_type": "code",
   "execution_count": 130,
   "metadata": {},
   "outputs": [],
   "source": [
    "grades = {'Alice': {'Physics': 75, 'Math': 85, 'Chemistry': 60, 'Philosophy': 90}, 'Bob': {'Physics': 75, 'Math': 85, 'Chemistry': 60, 'Philosophy': 90}}"
   ]
  },
  {
   "cell_type": "code",
   "execution_count": 164,
   "metadata": {},
   "outputs": [
    {
     "name": "stdout",
     "output_type": "stream",
     "text": [
      "{'Alice': {'Physics': 75, 'Math': 85, 'Chemistry': 60, 'Philosophy': 90}, 'Bob': {'Physics': 75, 'Math': 85, 'Chemistry': 60, 'Philosophy': 100}}\n"
     ]
    }
   ],
   "source": [
    "student = \"Bob\"\n",
    "subject = \"Philosophy\"\n",
    "new_grade = 100\n",
    "\n",
    "grades[student][subject] = new_grade\n",
    "\n",
    "print(grades)"
   ]
  },
  {
   "cell_type": "markdown",
   "metadata": {},
   "source": [
    "## Bonus"
   ]
  },
  {
   "cell_type": "markdown",
   "metadata": {},
   "source": [
    "1. Below are the two lists. Write a Python program to convert them into a dictionary in a way that item from list1 is the key and item from list2 is the value."
   ]
  },
  {
   "cell_type": "markdown",
   "metadata": {},
   "source": [
    "*Hint: Use the zip() function. This function takes two or more iterables (like list, dict, string), aggregates them in a tuple, and returns it. Afterwards, you can use a function that turns a tuple into a dictionary.*"
   ]
  },
  {
   "cell_type": "markdown",
   "metadata": {},
   "source": [
    "*Recommended External Resources: [Python Zip Function](https://www.w3schools.com/python/ref_func_zip.asp)*\n"
   ]
  },
  {
   "cell_type": "code",
   "execution_count": 146,
   "metadata": {},
   "outputs": [
    {
     "name": "stdout",
     "output_type": "stream",
     "text": [
      "{'Physics': 75, 'Math': 85, 'Chemistry': 60, 'Philosophy': 90}\n"
     ]
    }
   ],
   "source": [
    "keys = ['Physics', 'Math', 'Chemistry', 'Philosophy']\n",
    "values = [75, 85, 60,90]\n",
    "\n",
    "zipped = zip(keys, values)\n",
    "dic = dict(zipped)\n",
    "print(dic)"
   ]
  },
  {
   "cell_type": "markdown",
   "metadata": {},
   "source": [
    "2. Get the subject with the minimum score from the previous dictionary."
   ]
  },
  {
   "cell_type": "markdown",
   "metadata": {},
   "source": [
    "*Hint: Use the built-in function min(). Read about the parameter key.*"
   ]
  },
  {
   "cell_type": "markdown",
   "metadata": {},
   "source": [
    "\n",
    "*Recommended External Resources:*\n",
    "- *[Python Min Function Official Documentation](https://docs.python.org/3.8/library/functions.html#min)*\n",
    "- *[How to use key function in max and min in Python](https://medium.com/analytics-vidhya/how-to-use-key-function-in-max-and-min-in-python-1fdbd661c59c)*"
   ]
  },
  {
   "cell_type": "code",
   "execution_count": 162,
   "metadata": {},
   "outputs": [
    {
     "name": "stdout",
     "output_type": "stream",
     "text": [
      "The subject with the minimum score is Chemistry\n"
     ]
    }
   ],
   "source": [
    "min_score = min(dic.values())\n",
    "for key in dic:\n",
    "    if dic[key] == min_score:\n",
    "        print(f\"The subject with the minimum score is {key}\")"
   ]
  },
  {
   "cell_type": "code",
   "execution_count": null,
   "metadata": {},
   "outputs": [],
   "source": []
  }
 ],
 "metadata": {
  "kernelspec": {
   "display_name": "Python [conda env:base] *",
   "language": "python",
   "name": "conda-base-py"
  },
  "language_info": {
   "codemirror_mode": {
    "name": "ipython",
    "version": 3
   },
   "file_extension": ".py",
   "mimetype": "text/x-python",
   "name": "python",
   "nbconvert_exporter": "python",
   "pygments_lexer": "ipython3",
   "version": "3.12.7"
  }
 },
 "nbformat": 4,
 "nbformat_minor": 4
}
